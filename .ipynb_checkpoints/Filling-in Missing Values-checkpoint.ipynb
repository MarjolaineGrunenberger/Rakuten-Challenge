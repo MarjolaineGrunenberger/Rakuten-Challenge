{
 "cells": [
  {
   "cell_type": "code",
   "execution_count": 143,
   "metadata": {
    "collapsed": true
   },
   "outputs": [],
   "source": [
    "import numpy as np\n",
    "import pandas as pd\n",
    "from collections import Counter"
   ]
  },
  {
   "cell_type": "code",
   "execution_count": 144,
   "metadata": {
    "collapsed": true
   },
   "outputs": [],
   "source": [
    "data = pd.read_csv('input_train.csv')\n",
    "output = pd.read_csv('challenge_output_data_training_file_prediction_of_transaction_claims_status.csv')"
   ]
  },
  {
   "cell_type": "code",
   "execution_count": 145,
   "metadata": {},
   "outputs": [
    {
     "name": "stdout",
     "output_type": "stream",
     "text": [
      "<class 'pandas.core.frame.DataFrame'>\n",
      "RangeIndex: 100000 entries, 0 to 99999\n",
      "Data columns (total 22 columns):\n",
      "ID                      100000 non-null int64\n",
      "SHIPPING_MODE           99685 non-null object\n",
      "SHIPPING_PRICE          32390 non-null object\n",
      "WARRANTIES_FLG          100000 non-null bool\n",
      "WARRANTIES_PRICE        3397 non-null object\n",
      "CARD_PAYMENT            100000 non-null int64\n",
      "COUPON_PAYMENT          100000 non-null int64\n",
      "RSP_PAYMENT             100000 non-null int64\n",
      "WALLET_PAYMENT          100000 non-null int64\n",
      "PRICECLUB_STATUS        99943 non-null object\n",
      "REGISTRATION_DATE       100000 non-null int64\n",
      "PURCHASE_COUNT          100000 non-null object\n",
      "BUYER_BIRTHDAY_DATE     94164 non-null float64\n",
      "BUYER_DEPARTMENT        100000 non-null int64\n",
      "BUYING_DATE             100000 non-null object\n",
      "SELLER_SCORE_COUNT      99994 non-null object\n",
      "SELLER_SCORE_AVERAGE    99994 non-null float64\n",
      "SELLER_COUNTRY          100000 non-null object\n",
      "SELLER_DEPARTMENT       100000 non-null int64\n",
      "PRODUCT_TYPE            100000 non-null object\n",
      "PRODUCT_FAMILY          100000 non-null object\n",
      "ITEM_PRICE              100000 non-null object\n",
      "dtypes: bool(1), float64(2), int64(8), object(11)\n",
      "memory usage: 16.1+ MB\n"
     ]
    }
   ],
   "source": [
    "data.info()"
   ]
  },
  {
   "cell_type": "markdown",
   "metadata": {},
   "source": [
    "SHIPPING_PRIVE : drop cette variable car on a seulement 3% des input qui ne sont pas des nans.       \n",
    "WARRANTIES_PRICE : pareil.  "
   ]
  },
  {
   "cell_type": "code",
   "execution_count": 146,
   "metadata": {},
   "outputs": [],
   "source": [
    "data = data.drop(columns=['SHIPPING_PRICE', 'WARRANTIES_PRICE'])"
   ]
  },
  {
   "cell_type": "markdown",
   "metadata": {},
   "source": [
    "SHIPPING_MODE : 99685 / 100000 nans, on les remplace par la valeur la plus fréquente.   \n"
   ]
  },
  {
   "cell_type": "code",
   "execution_count": 147,
   "metadata": {},
   "outputs": [
    {
     "data": {
      "text/plain": [
       "array(['NORMAL', 'RECOMMANDE', 'EXPRESS_DELIVERY', 'SUIVI',\n",
       "       'SO_RECOMMANDE', 'MONDIAL_RELAY', 'MONDIAL_RELAY_PREPAYE',\n",
       "       'SO_POINT_RELAIS', nan, 'CHRONOPOST', 'PICKUP', 'Kiala'],\n",
       "      dtype=object)"
      ]
     },
     "execution_count": 147,
     "metadata": {},
     "output_type": "execute_result"
    }
   ],
   "source": [
    "data['SHIPPING_MODE'].unique()"
   ]
  },
  {
   "cell_type": "code",
   "execution_count": 148,
   "metadata": {},
   "outputs": [
    {
     "data": {
      "text/plain": [
       "Counter({'NORMAL': 66592,\n",
       "         'RECOMMANDE': 18585,\n",
       "         'EXPRESS_DELIVERY': 379,\n",
       "         'SUIVI': 6955,\n",
       "         'SO_RECOMMANDE': 771,\n",
       "         'MONDIAL_RELAY': 2238,\n",
       "         'MONDIAL_RELAY_PREPAYE': 1736,\n",
       "         'SO_POINT_RELAIS': 2175,\n",
       "         nan: 315,\n",
       "         'CHRONOPOST': 151,\n",
       "         'PICKUP': 101,\n",
       "         'Kiala': 2})"
      ]
     },
     "execution_count": 148,
     "metadata": {},
     "output_type": "execute_result"
    }
   ],
   "source": [
    "Counter(data['SHIPPING_MODE'])"
   ]
  },
  {
   "cell_type": "code",
   "execution_count": 149,
   "metadata": {},
   "outputs": [],
   "source": [
    "data['SHIPPING_MODE'] = data['SHIPPING_MODE'].fillna('NORMAL')"
   ]
  },
  {
   "cell_type": "markdown",
   "metadata": {},
   "source": [
    "PRICECLUB_STATUS : 99943 / 100000 nans, on remplace par la valeur la plus fréquente. "
   ]
  },
  {
   "cell_type": "code",
   "execution_count": 150,
   "metadata": {},
   "outputs": [
    {
     "data": {
      "text/plain": [
       "Counter({'UNSUBSCRIBED': 61524,\n",
       "         'PLATINUM': 17511,\n",
       "         'SILVER': 3725,\n",
       "         'REGULAR': 11574,\n",
       "         'GOLD': 5609,\n",
       "         nan: 57})"
      ]
     },
     "execution_count": 150,
     "metadata": {},
     "output_type": "execute_result"
    }
   ],
   "source": [
    "Counter(data['PRICECLUB_STATUS'])"
   ]
  },
  {
   "cell_type": "code",
   "execution_count": 151,
   "metadata": {},
   "outputs": [],
   "source": [
    "data['PRICECLUB_STATUS'] = data['PRICECLUB_STATUS'].fillna('UNSUBSCRIBED')"
   ]
  },
  {
   "cell_type": "markdown",
   "metadata": {},
   "source": [
    "On remplace par la date de naissance moyenne. \n",
    "BUYER_BIRTHDAY_DATE : 94164 / 100000  "
   ]
  },
  {
   "cell_type": "code",
   "execution_count": 152,
   "metadata": {},
   "outputs": [],
   "source": [
    "birthday_mean = int(data['BUYER_BIRTHDAY_DATE'].mean())\n",
    "data['BUYER_BIRTHDAY_DATE'] = data['BUYER_BIRTHDAY_DATE'].fillna(birthday_mean)"
   ]
  },
  {
   "cell_type": "markdown",
   "metadata": {},
   "source": [
    "SELLER_SCORE_COUNT : 99994 / 100000 nans. "
   ]
  },
  {
   "cell_type": "code",
   "execution_count": 153,
   "metadata": {},
   "outputs": [
    {
     "data": {
      "text/plain": [
       "Counter({'10000<100000': 31104,\n",
       "         '1000<10000': 30372,\n",
       "         '100000<1000000': 26894,\n",
       "         '100<1000': 9539,\n",
       "         '<100': 2085,\n",
       "         nan: 6})"
      ]
     },
     "execution_count": 153,
     "metadata": {},
     "output_type": "execute_result"
    }
   ],
   "source": [
    "Counter(data['SELLER_SCORE_COUNT'])"
   ]
  },
  {
   "cell_type": "markdown",
   "metadata": {},
   "source": [
    "On remplace les nans par ['10000<100000', '1000<10000', '100000<1000000','10000<100000', '1000<10000', '100000<1000000']  \n",
    "pour respecter les proportions initiales. "
   ]
  },
  {
   "cell_type": "code",
   "execution_count": 154,
   "metadata": {},
   "outputs": [],
   "source": [
    "data.loc[data['SELLER_SCORE_COUNT'].isna(), 'SELLER_SCORE_COUNT'] = ['10000<100000', '1000<10000', '100000<1000000','10000<100000', '1000<10000', '100000<1000000']"
   ]
  },
  {
   "cell_type": "markdown",
   "metadata": {},
   "source": [
    "On remplace les nan de SELLER_SCORE_AVERAGE par la moyenne des valeurs pour le SELLER_SCORE_COUNT correspondant.   "
   ]
  },
  {
   "cell_type": "code",
   "execution_count": 155,
   "metadata": {},
   "outputs": [],
   "source": [
    "d = data[['SELLER_SCORE_COUNT', 'SELLER_SCORE_AVERAGE']]\n",
    "m1 = int(d.loc[d['SELLER_SCORE_COUNT'] == '10000<100000', 'SELLER_SCORE_AVERAGE'].mean())\n",
    "m2 = int(d.loc[d['SELLER_SCORE_COUNT'] == '1000<10000', 'SELLER_SCORE_AVERAGE'].mean())\n",
    "m3 = int(d.loc[d['SELLER_SCORE_COUNT'] == '100000<1000000', 'SELLER_SCORE_AVERAGE'].mean())\n",
    "data.loc[data['SELLER_SCORE_AVERAGE'].isna(), 'SELLER_SCORE_AVERAGE'] = [m1, m2, m3, m1, m2, m3]"
   ]
  },
  {
   "cell_type": "markdown",
   "metadata": {},
   "source": [
    "Train / Test split. "
   ]
  },
  {
   "cell_type": "code",
   "execution_count": 158,
   "metadata": {
    "collapsed": true
   },
   "outputs": [],
   "source": [
    "train = data.iloc[:80000,:]\n",
    "test = data.iloc[80000:,:]"
   ]
  }
 ],
 "metadata": {
  "kernelspec": {
   "display_name": "Python 3",
   "language": "python",
   "name": "python3"
  },
  "language_info": {
   "codemirror_mode": {
    "name": "ipython",
    "version": 3
   },
   "file_extension": ".py",
   "mimetype": "text/x-python",
   "name": "python",
   "nbconvert_exporter": "python",
   "pygments_lexer": "ipython3",
   "version": "3.6.3"
  }
 },
 "nbformat": 4,
 "nbformat_minor": 2
}
